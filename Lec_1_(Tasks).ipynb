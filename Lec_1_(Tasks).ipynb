{
  "nbformat": 4,
  "nbformat_minor": 0,
  "metadata": {
    "colab": {
      "provenance": [],
      "authorship_tag": "ABX9TyNNj4LOiQJssWlC3X4jrvxX",
      "include_colab_link": true
    },
    "kernelspec": {
      "name": "python3",
      "display_name": "Python 3"
    },
    "language_info": {
      "name": "python"
    }
  },
  "cells": [
    {
      "cell_type": "markdown",
      "metadata": {
        "id": "view-in-github",
        "colab_type": "text"
      },
      "source": [
        "<a href=\"https://colab.research.google.com/github/AlaaBoghdady/Mindset_Training/blob/main/Lec_1_(Tasks).ipynb\" target=\"_parent\"><img src=\"https://colab.research.google.com/assets/colab-badge.svg\" alt=\"Open In Colab\"/></a>"
      ]
    },
    {
      "cell_type": "markdown",
      "source": [
        "#**Alaa Boghdady [ AI ]**"
      ],
      "metadata": {
        "id": "_Oer8EnBmpE3"
      }
    },
    {
      "cell_type": "markdown",
      "source": [
        "1 - Task on List"
      ],
      "metadata": {
        "id": "MnTBOVh7iGCh"
      }
    },
    {
      "cell_type": "code",
      "execution_count": null,
      "metadata": {
        "id": "wZe9Bztjh9gS"
      },
      "outputs": [],
      "source": [
        "Heros=['spider man','thor','hulk','iron man','captain america']"
      ]
    },
    {
      "cell_type": "code",
      "source": [
        "#1 length of the list\n",
        "print(len(Heros))"
      ],
      "metadata": {
        "colab": {
          "base_uri": "https://localhost:8080/"
        },
        "id": "FNQxbMXRijpX",
        "outputId": "0b7b1618-b640-4046-9d86-0575072179a0"
      },
      "execution_count": null,
      "outputs": [
        {
          "output_type": "stream",
          "name": "stdout",
          "text": [
            "5\n"
          ]
        }
      ]
    },
    {
      "cell_type": "code",
      "source": [
        "#2 Add 'black panther' at the end of this list\n",
        "Heros.append('black panther')\n",
        "print(Heros)"
      ],
      "metadata": {
        "colab": {
          "base_uri": "https://localhost:8080/"
        },
        "id": "3W272tgWiqN_",
        "outputId": "87c24902-76d1-498d-fb29-f1d9095cedf7"
      },
      "execution_count": null,
      "outputs": [
        {
          "output_type": "stream",
          "name": "stdout",
          "text": [
            "['spider man', 'thor', 'hulk', 'iron man', 'captain america', 'black panther']\n"
          ]
        }
      ]
    },
    {
      "cell_type": "code",
      "source": [
        "#3 You realize that you need to add 'black panther' after 'hulk' so remove it from the list first and then add it after 'hulk'\n",
        "Heros.remove('black panther')\n",
        "Heros.insert(3 , 'black panther')\n",
        "print(Heros)"
      ],
      "metadata": {
        "colab": {
          "base_uri": "https://localhost:8080/"
        },
        "id": "I3bNrZuvizq4",
        "outputId": "24fa6bf7-a732-4645-b7a8-c67ec7ec79ea"
      },
      "execution_count": null,
      "outputs": [
        {
          "output_type": "stream",
          "name": "stdout",
          "text": [
            "['spider man', 'thor', 'hulk', 'black panther', 'iron man', 'captain america']\n"
          ]
        }
      ]
    },
    {
      "cell_type": "code",
      "source": [
        "#4 Now you don't like thor and hulk because they get angry easily :)So you want to remove thor and\n",
        "#hulk from list and replace them with doctor strange (because he is cool).Do that with one line of code.\n",
        "Heros[1:3]=['doctor strange']\n",
        "print(Heros)"
      ],
      "metadata": {
        "colab": {
          "base_uri": "https://localhost:8080/"
        },
        "id": "IhQc7Zvijxsn",
        "outputId": "d551d82a-4dd2-46f0-b0f7-c4cf626f0778"
      },
      "execution_count": null,
      "outputs": [
        {
          "output_type": "stream",
          "name": "stdout",
          "text": [
            "['spider man', 'doctor strange', 'black panther', 'iron man', 'captain america']\n"
          ]
        }
      ]
    },
    {
      "cell_type": "code",
      "source": [
        "#5 Sort the heros list in alphabetical order (Hint. Use dir() functions to list down all functions available in list)\n",
        "Heros.sort()\n",
        "print(Heros)"
      ],
      "metadata": {
        "colab": {
          "base_uri": "https://localhost:8080/"
        },
        "id": "RYTt0rQAl1e1",
        "outputId": "f2fff8e4-ac4e-4fa1-eae1-3a4ccb4295ac"
      },
      "execution_count": null,
      "outputs": [
        {
          "output_type": "stream",
          "name": "stdout",
          "text": [
            "['black panther', 'captain america', 'doctor strange', 'iron man', 'spider man']\n"
          ]
        }
      ]
    },
    {
      "cell_type": "markdown",
      "source": [
        "\n",
        "---"
      ],
      "metadata": {
        "id": "5RcFzrkjneKE"
      }
    },
    {
      "cell_type": "markdown",
      "source": [
        "2 - Task on Variables"
      ],
      "metadata": {
        "id": "HZhmQ8PznWGP"
      }
    },
    {
      "cell_type": "code",
      "source": [
        "# 1\n",
        "birth_year = 2001\n",
        "current_year = 2025\n",
        "age = current_year - birth_year\n",
        "print(age)"
      ],
      "metadata": {
        "colab": {
          "base_uri": "https://localhost:8080/"
        },
        "id": "bGLCCcifnRZt",
        "outputId": "bcbb9bab-674d-4e19-8b1a-44f817befa32"
      },
      "execution_count": null,
      "outputs": [
        {
          "output_type": "stream",
          "name": "stdout",
          "text": [
            "24\n"
          ]
        }
      ]
    },
    {
      "cell_type": "code",
      "source": [
        "# 2\n",
        "first = \"Alaa\"\n",
        "middle = \" Hamdy Mohammed\"\n",
        "last = \" Boghdady\"\n",
        "print(f\" My name is {first}{middle}{last}.\")"
      ],
      "metadata": {
        "colab": {
          "base_uri": "https://localhost:8080/"
        },
        "id": "vSFRqYCznRV6",
        "outputId": "d4e9f656-0c8c-4236-fe67-ebbb16adc15c"
      },
      "execution_count": null,
      "outputs": [
        {
          "output_type": "stream",
          "name": "stdout",
          "text": [
            " My name is Alaa Hamdy Mohammed Boghdady.\n"
          ]
        }
      ]
    },
    {
      "cell_type": "code",
      "source": [
        "# 3 Answer which of these are invalid variable names: _nation 1record record1 record_one record-one record^one\n",
        "# my answer is (1record ,  record^one , record-one)"
      ],
      "metadata": {
        "id": "xTGEMWoOnRUP"
      },
      "execution_count": null,
      "outputs": []
    },
    {
      "cell_type": "markdown",
      "source": [
        "\n",
        "\n",
        "---\n",
        "\n"
      ],
      "metadata": {
        "id": "rzSzk-vwuXDT"
      }
    },
    {
      "cell_type": "markdown",
      "source": [
        "3 - Task on Numbers"
      ],
      "metadata": {
        "id": "jOxO8b-vuZev"
      }
    },
    {
      "cell_type": "code",
      "source": [
        "#1\n",
        "length = 92\n",
        "width = 48.8\n",
        "area = length * width\n",
        "print(\"The total area of the football field is \" , area)"
      ],
      "metadata": {
        "colab": {
          "base_uri": "https://localhost:8080/"
        },
        "id": "beqqjPA7nRHc",
        "outputId": "7f158d2f-5bd3-488c-b100-92e6cb09f148"
      },
      "execution_count": null,
      "outputs": [
        {
          "output_type": "stream",
          "name": "stdout",
          "text": [
            "The total area of the football field is  4489.599999999999\n"
          ]
        }
      ]
    },
    {
      "cell_type": "code",
      "source": [
        "#2\n",
        "num_packets = 9\n",
        "cost_per_packet = 1.49\n",
        "total_cost = cost_per_packet * num_packets\n",
        "cash = 20\n",
        "cash_back = cash - total_cost\n",
        "print(\"cash back = \" , cash_back)"
      ],
      "metadata": {
        "colab": {
          "base_uri": "https://localhost:8080/"
        },
        "id": "CrSMvMSmnRET",
        "outputId": "fba9b049-5981-4af4-9593-0daf4e69b5db"
      },
      "execution_count": null,
      "outputs": [
        {
          "output_type": "stream",
          "name": "stdout",
          "text": [
            "cash back =  6.59\n"
          ]
        }
      ]
    },
    {
      "cell_type": "code",
      "source": [
        "#3\n",
        "length = 5.5\n",
        "area = length ** 2\n",
        "cost_tiles = area*500\n",
        "print(\"The total cost for bathroom tiles replacement = \" , cost_tiles)"
      ],
      "metadata": {
        "colab": {
          "base_uri": "https://localhost:8080/"
        },
        "id": "uOoWU5zmnRBK",
        "outputId": "bbd3056d-0326-4679-a1f8-a573aa769ad1"
      },
      "execution_count": null,
      "outputs": [
        {
          "output_type": "stream",
          "name": "stdout",
          "text": [
            "The total cost for bathroom tiles replacement =  15125.0\n"
          ]
        }
      ]
    },
    {
      "cell_type": "markdown",
      "source": [
        "\n",
        "\n",
        "---\n",
        "\n"
      ],
      "metadata": {
        "id": "lnuaVCtuyudy"
      }
    },
    {
      "cell_type": "markdown",
      "source": [
        "4 - Task on String"
      ],
      "metadata": {
        "id": "aBpSPq1XyxGW"
      }
    },
    {
      "cell_type": "code",
      "source": [
        "#1\n",
        "street = \"100 dar misr \"\n",
        "city = \" Elsherouk city\"\n",
        "country = \"Egypt\"\n",
        "address = '\\n' + street +'\\n' + city +'\\n' + country\n",
        "print(\"the adress using + operator: \" , address)\n",
        "address = f\"\\n{street}\\n{city}\\n{country}\"\n",
        "print(\"the adress using f-string:\" , address)"
      ],
      "metadata": {
        "colab": {
          "base_uri": "https://localhost:8080/"
        },
        "id": "8rWlCT5mywxA",
        "outputId": "aa14d8af-02ac-4c88-9069-f2d3cce913f0"
      },
      "execution_count": null,
      "outputs": [
        {
          "output_type": "stream",
          "name": "stdout",
          "text": [
            "the adress using + operator:  \n",
            "100 dar misr \n",
            " Elsherouk city\n",
            "Egypt\n",
            "the adress using f-string: \n",
            "100 dar misr \n",
            " Elsherouk city\n",
            "Egypt\n"
          ]
        }
      ]
    },
    {
      "cell_type": "code",
      "source": [
        "#2\n",
        "E = \"Earth revolves around the sun\"\n",
        "#slice\n",
        "print(E[6:14])\n",
        "#negative index\n",
        "print(E[-3:])"
      ],
      "metadata": {
        "colab": {
          "base_uri": "https://localhost:8080/"
        },
        "id": "nKkMsXm-ywtv",
        "outputId": "0727f177-a9f0-463d-b19a-c11fcc5a8a18"
      },
      "execution_count": null,
      "outputs": [
        {
          "output_type": "stream",
          "name": "stdout",
          "text": [
            "revolves\n",
            "sun\n"
          ]
        }
      ]
    },
    {
      "cell_type": "code",
      "source": [
        "#3\n",
        "fruits = 5\n",
        "vegetables = 2\n",
        "print(f\"I eat {vegetables}  veggies and {fruits} fruits daily\")"
      ],
      "metadata": {
        "colab": {
          "base_uri": "https://localhost:8080/"
        },
        "id": "9p7HQjt41Daz",
        "outputId": "ef0b948f-5871-449e-a8d0-8a48425d2e07"
      },
      "execution_count": null,
      "outputs": [
        {
          "output_type": "stream",
          "name": "stdout",
          "text": [
            "I eat 2  veggies and 5 fruits daily\n"
          ]
        }
      ]
    },
    {
      "cell_type": "code",
      "source": [
        "#4\n",
        "s = 'maine 200 banana khaye'\n",
        "s = s.replace('200' , '10').replace('banana' ,'samosa')\n",
        "print(s)"
      ],
      "metadata": {
        "colab": {
          "base_uri": "https://localhost:8080/"
        },
        "id": "R7GDZkQf21GB",
        "outputId": "72e51c38-813d-45c0-bd32-d4e0cec86dba"
      },
      "execution_count": null,
      "outputs": [
        {
          "output_type": "stream",
          "name": "stdout",
          "text": [
            "maine 10 samosa khaye\n"
          ]
        }
      ]
    }
  ]
}