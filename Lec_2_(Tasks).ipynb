{
  "nbformat": 4,
  "nbformat_minor": 0,
  "metadata": {
    "colab": {
      "provenance": [],
      "authorship_tag": "ABX9TyNwSz+LIcIHqlX2LFEOIkEZ",
      "include_colab_link": true
    },
    "kernelspec": {
      "name": "python3",
      "display_name": "Python 3"
    },
    "language_info": {
      "name": "python"
    }
  },
  "cells": [
    {
      "cell_type": "markdown",
      "metadata": {
        "id": "view-in-github",
        "colab_type": "text"
      },
      "source": [
        "<a href=\"https://colab.research.google.com/github/AlaaBoghdady/Mindset_Training/blob/main/Lec_2_(Tasks).ipynb\" target=\"_parent\"><img src=\"https://colab.research.google.com/assets/colab-badge.svg\" alt=\"Open In Colab\"/></a>"
      ]
    },
    {
      "cell_type": "markdown",
      "source": [
        "#**Alaa Boghdady [ AI ]**"
      ],
      "metadata": {
        "id": "ySSXosf6ubeP"
      }
    },
    {
      "cell_type": "markdown",
      "source": [
        "# **1-Task on if condition**"
      ],
      "metadata": {
        "id": "NH_YEBGg60dD"
      }
    },
    {
      "cell_type": "code",
      "execution_count": null,
      "metadata": {
        "colab": {
          "base_uri": "https://localhost:8080/"
        },
        "id": "F19B0-zQ6vAl",
        "outputId": "f0211d76-8762-4b34-887a-8f68a2fff355"
      },
      "outputs": [
        {
          "output_type": "stream",
          "name": "stdout",
          "text": [
            "Enter the name of the city please :cairo\n",
            "I can't tell you which country the cairo is in! , sorry!\n"
          ]
        }
      ],
      "source": [
        "#1\n",
        "india = [\"mumbai\", \"banglore\", \"chennai\", \"delhi\"]\n",
        "pakistan = [\"lahore\",\"karachi\",\"islamabad\"]\n",
        "bangladesh = [\"dhaka\", \"khulna\", \"rangpur\"]\n",
        "\n",
        "city = input(\"Enter the name of the city please :\")\n",
        "if city in india:\n",
        "   print(f\"{city} is in India\")\n",
        "elif city in pakistan:\n",
        "  print(f\"{city} is in Pakistan\")\n",
        "elif city in bangladesh:\n",
        "  print(f\"{city} is in Bangladesh\")\n",
        "else:\n",
        "  print(f\"I can't tell you which country the {city} is in! , sorry!\")"
      ]
    },
    {
      "cell_type": "code",
      "source": [
        "#2\n",
        "city1 = input(\"Enter the name of the first city please:\")\n",
        "city2 = input(\"Enter the name of the second city please:\")\n",
        "\n",
        "if city1 and city2 in india:\n",
        "  print(f\"{city1} and {city2} both cities are in india\")\n",
        "elif city1 and city2 in pakistan:\n",
        "  print(f\"{city1} and {city2} both cities are in pakistan\")\n",
        "elif city1 and city2 in bangladesh:\n",
        "  print(f\"{city1} and {city2} both cities are in bangladesh\")\n",
        "else:\n",
        "  print(\"They don't belong to the same country\")\n"
      ],
      "metadata": {
        "colab": {
          "base_uri": "https://localhost:8080/"
        },
        "id": "xIFARu8c8ItO",
        "outputId": "33e44737-af16-4ae4-dad7-01ab06e516b0"
      },
      "execution_count": null,
      "outputs": [
        {
          "output_type": "stream",
          "name": "stdout",
          "text": [
            "Enter the name of the first city please:delhi\n",
            "Enter the name of the second city please:mumbai\n",
            "delhi and mumbai both cities are in india\n"
          ]
        }
      ]
    },
    {
      "cell_type": "markdown",
      "source": [
        "\n",
        "\n",
        "---\n",
        "\n",
        "\n",
        "\n",
        "---\n",
        "\n"
      ],
      "metadata": {
        "id": "br_0bMau99k5"
      }
    },
    {
      "cell_type": "code",
      "source": [
        "#2\n",
        "sugar_level =float(input((\"Enter your fasting sugar level please:\")))\n",
        "if sugar_level <80:\n",
        "  print(\"your sugar is low!\")\n",
        "elif sugar_level > 100:\n",
        "  print(\"your sugar is high!\")\n",
        "else:\n",
        "  print(\"sugar is normal\")"
      ],
      "metadata": {
        "colab": {
          "base_uri": "https://localhost:8080/"
        },
        "id": "Moxr4vw59ycp",
        "outputId": "97c92f52-cda9-4601-bf0b-a5fd3f8acb2e"
      },
      "execution_count": null,
      "outputs": [
        {
          "output_type": "stream",
          "name": "stdout",
          "text": [
            "Enter your fasting sugar level please:90\n",
            "sugar is normal\n"
          ]
        }
      ]
    },
    {
      "cell_type": "markdown",
      "source": [
        "\n",
        "\n",
        "---\n",
        "\n",
        "\n",
        "\n",
        "---\n",
        "\n",
        "\n"
      ],
      "metadata": {
        "id": "WC2RaEuSk3nr"
      }
    },
    {
      "cell_type": "markdown",
      "source": [
        "#**2-Task on for loops**"
      ],
      "metadata": {
        "id": "Iny3KVMnksb2"
      }
    },
    {
      "cell_type": "code",
      "source": [
        "#1\n",
        "result = [\"heads\",\"tails\",\"tails\",\"heads\",\"tails\",\"heads\",\"heads\",\"tails\",\"tails\",\"tails\"]\n",
        "num = 0\n",
        "for i in result:\n",
        "  if i == \"heads\":\n",
        "    num+=1\n",
        "print(\"Heads count = \" , num)"
      ],
      "metadata": {
        "colab": {
          "base_uri": "https://localhost:8080/"
        },
        "id": "Dguw42TSksGG",
        "outputId": "5366a536-2390-4c42-cdf3-86a92c9ddc19"
      },
      "execution_count": null,
      "outputs": [
        {
          "output_type": "stream",
          "name": "stdout",
          "text": [
            "Heads count =  4\n"
          ]
        }
      ]
    },
    {
      "cell_type": "code",
      "source": [
        "#2\n",
        "for i in range(1 , 11):\n",
        "  if i % 2 ==0 :\n",
        "    continue\n",
        "  print(i*i)"
      ],
      "metadata": {
        "colab": {
          "base_uri": "https://localhost:8080/"
        },
        "id": "XfMG7AXJksDG",
        "outputId": "c49bdb38-3e8f-4b8e-894d-dce19073a6e6"
      },
      "execution_count": null,
      "outputs": [
        {
          "output_type": "stream",
          "name": "stdout",
          "text": [
            "1\n",
            "9\n",
            "25\n",
            "49\n",
            "81\n"
          ]
        }
      ]
    },
    {
      "cell_type": "code",
      "source": [
        "#3\n",
        "month_list = [\"january\",\"february\",\"march\",\"april\",\"may\"]\n",
        "expense_list = [2340, 2500, 2100, 3100, 2980]\n",
        "exp = int(input(\"Enter your expense please:\"))\n",
        "\n",
        "month = -1\n",
        "for i in range(len(expense_list)):\n",
        "  if exp == expense_list[i]:\n",
        "    month = i\n",
        "    break\n",
        "\n",
        "if month != -1:\n",
        "  print(f\"you spent {exp} in {month_list[month]}\")\n",
        "else:\n",
        "  print(f\"you didn't spent {exp} in any month\")\n"
      ],
      "metadata": {
        "colab": {
          "base_uri": "https://localhost:8080/"
        },
        "id": "5GiFaO0tr9_k",
        "outputId": "f4d3771b-ff0f-45ac-bb3b-0edc82d8da2c"
      },
      "execution_count": null,
      "outputs": [
        {
          "output_type": "stream",
          "name": "stdout",
          "text": [
            "Enter your expense please:2100\n",
            "you spent 2100 in march\n"
          ]
        }
      ]
    },
    {
      "cell_type": "code",
      "source": [
        "#4\n",
        "for i in range(5):\n",
        "   print(f\"you ran {i+1} miles\")\n",
        "   tired = input(\"Are you tired ?\")\n",
        "   if tired == \"yes\":\n",
        "       break\n",
        "\n",
        "if i == 4:\n",
        "   print(\"Congratulations!! you finished the race :))\")\n",
        "else:\n",
        "   print(f\"unfortunatly you did't finish the race, but congrats anyways!\")"
      ],
      "metadata": {
        "colab": {
          "base_uri": "https://localhost:8080/"
        },
        "id": "QJ0rDmYgvro2",
        "outputId": "c2446a64-7e9e-4a31-9e40-3ed92b5edbfb"
      },
      "execution_count": null,
      "outputs": [
        {
          "output_type": "stream",
          "name": "stdout",
          "text": [
            "you ran 1 miles\n",
            "Are you tired ?yes\n",
            "unfortunatly you did't finish the race, but congrats anyways!\n"
          ]
        }
      ]
    },
    {
      "cell_type": "code",
      "source": [
        "#5\n",
        "for i in range(1,6):\n",
        "  print(\"*\"*i)"
      ],
      "metadata": {
        "colab": {
          "base_uri": "https://localhost:8080/"
        },
        "id": "IdX-EEq92qmF",
        "outputId": "6695594e-52af-4951-c3f9-37063b6c73bf"
      },
      "execution_count": null,
      "outputs": [
        {
          "output_type": "stream",
          "name": "stdout",
          "text": [
            "*\n",
            "**\n",
            "***\n",
            "****\n",
            "*****\n"
          ]
        }
      ]
    },
    {
      "cell_type": "markdown",
      "source": [
        "\n",
        "\n",
        "---\n",
        "\n",
        "\n",
        "\n",
        "---\n",
        "\n"
      ],
      "metadata": {
        "id": "ZTdf9ig96yXT"
      }
    },
    {
      "cell_type": "markdown",
      "source": [
        "#**3-Task on List Set Dict Comprehensions**"
      ],
      "metadata": {
        "id": "j6jS2qYD7CI2"
      }
    },
    {
      "cell_type": "code",
      "source": [
        "#1\n",
        "integer = [11 ,31 ,88 ,43 ,20]\n",
        "binary = [\"12\" ,\"42\" ,\"56\" ,\"90\" ,\"87\"]\n",
        "\n",
        "z = zip(integer , binary)\n",
        "binary_dict = dict(z)\n",
        "print(binary_dict)"
      ],
      "metadata": {
        "colab": {
          "base_uri": "https://localhost:8080/"
        },
        "id": "EdWcDr187Liz",
        "outputId": "fe638573-90e8-4892-d3ad-50f2ce871d8a"
      },
      "execution_count": null,
      "outputs": [
        {
          "output_type": "stream",
          "name": "stdout",
          "text": [
            "{11: '12', 31: '42', 88: '56', 43: '90', 20: '87'}\n"
          ]
        }
      ]
    },
    {
      "cell_type": "code",
      "source": [
        "#2\n",
        "integer2 = [2 ,-3 ,4 ,6 ,-10]\n",
        "additive_inverse=[-1*i for i in integer2]\n",
        "print(additive_inverse)"
      ],
      "metadata": {
        "colab": {
          "base_uri": "https://localhost:8080/"
        },
        "id": "Pb8f3Lun7LPV",
        "outputId": "b745339c-afec-4d55-e49a-5af8a5e7d92b"
      },
      "execution_count": null,
      "outputs": [
        {
          "output_type": "stream",
          "name": "stdout",
          "text": [
            "[-2, 3, -4, -6, 10]\n"
          ]
        }
      ]
    },
    {
      "cell_type": "code",
      "source": [
        "#3\n",
        "integer3 = [2 ,4 ,7 ,12 ,3]\n",
        "sqr_set ={i**2 for i in integer3}\n",
        "print(sqr_set)"
      ],
      "metadata": {
        "colab": {
          "base_uri": "https://localhost:8080/"
        },
        "id": "vqRcF83e7LND",
        "outputId": "b4ac3157-3665-4a12-8823-84a60ea3a46f"
      },
      "execution_count": null,
      "outputs": [
        {
          "output_type": "stream",
          "name": "stdout",
          "text": [
            "{4, 9, 16, 49, 144}\n"
          ]
        }
      ]
    },
    {
      "cell_type": "markdown",
      "source": [
        "\n",
        "\n",
        "---\n",
        "\n",
        "\n",
        "\n",
        "---\n",
        "\n"
      ],
      "metadata": {
        "id": "RAlJtNukDati"
      }
    },
    {
      "cell_type": "markdown",
      "source": [
        "#**4-Task on Dict and Tuple**"
      ],
      "metadata": {
        "id": "IpwxaPWUDcrQ"
      }
    },
    {
      "cell_type": "code",
      "source": [
        "#1\n",
        "countries_population = {\n",
        "\n",
        "      'China':143,\n",
        "      'India':163,\n",
        "      'USA':32,\n",
        "      'Pakistan':21\n",
        "}\n",
        "\n",
        "while True:\n",
        "  user =input(\"pleae Enter your choice (print , add , remove , query , exit)\")\n",
        "\n",
        "  if user == 'print':\n",
        "    for country , population in countries_population.items():\n",
        "      print(f\"{country}==>{population}\")\n",
        "\n",
        "  elif user == 'add':\n",
        "    country = input(\"what is the name of country ?\")\n",
        "    if country in countries_population:\n",
        "      print(f'{country} already exist')\n",
        "    else:\n",
        "      population = int(input(f\"Enter the population of {country}:\"))\n",
        "      countries_population[country] = population\n",
        "      print(f\"{country} has been added with population {population}.\")\n",
        "\n",
        "  elif user == 'remove':\n",
        "    country = input(\"what is the name of country that you want to remove ?\")\n",
        "    if country in countries_population:\n",
        "      del countries_population[country]\n",
        "    else:\n",
        "      print(f\"{country} doesn't exist!\")\n",
        "\n",
        "  elif user == \"query\":\n",
        "      country = input(\"Enter the country name to query: \")\n",
        "      if country in countries_population:\n",
        "       print(f\"The population of {country} is {countries_population[country]}.\")\n",
        "      else:\n",
        "       print(f\"{country} doesn't exist in the dataset!\")\n",
        "\n",
        "  elif user == \"exit\":\n",
        "        print(\"Exiting the program.\")\n",
        "        break\n",
        "else:\n",
        "    print(\"Invalid action. Please enter print, add, remove, query, or exit.\")\n"
      ],
      "metadata": {
        "colab": {
          "base_uri": "https://localhost:8080/"
        },
        "id": "vb5qZAbmDQVs",
        "outputId": "f77d3f10-83cc-484b-ef50-a42c504a24d1"
      },
      "execution_count": null,
      "outputs": [
        {
          "output_type": "stream",
          "name": "stdout",
          "text": [
            "pleae Enter your choice (print , add , remove , query , exit)remove\n",
            "what is the name of country that you want to remove ?Egypt\n",
            "Egypt doesn't exist!\n",
            "pleae Enter your choice (print , add , remove , query , exit)add\n",
            "what is the name of country ?egypt\n",
            "Enter the population of egypt:3333\n",
            "egypt has been added with population 3333.\n",
            "pleae Enter your choice (print , add , remove , query , exit)remove\n",
            "what is the name of country that you want to remove ?egypt\n",
            "pleae Enter your choice (print , add , remove , query , exit)print\n",
            "China==>143\n",
            "India==>163\n",
            "USA==>32\n",
            "Pakistan==>21\n",
            "pleae Enter your choice (print , add , remove , query , exit)query\n",
            "Enter the country name to query: USA\n",
            "The population of USA is 32.\n",
            "pleae Enter your choice (print , add , remove , query , exit)exit\n",
            "Exiting the program.\n"
          ]
        }
      ]
    },
    {
      "cell_type": "code",
      "source": [
        "#2\n",
        "stocks = {\n",
        "  'info':[600,630,620],\n",
        "  'ril':[1430,1490,1567],\n",
        "  'mtl':[234,180,160]\n",
        "}\n",
        "\n",
        "def circle_calc(radius):\n",
        "  area = 3.1416 * (radius**2)\n",
        "  circumference = 2 * 3.1416 * radius\n",
        "  diameter = 2 * radius\n",
        "  return area , circumference , diameter\n",
        "\n",
        "while True:\n",
        "  user = input(\"Enter your choice please?(print , add , circle_calc ,exit):\")\n",
        "\n",
        "  if user == \"print\":\n",
        "    for stock , prices in stocks.items():\n",
        "      avg_price = sum(prices)/ len(prices)\n",
        "      print(f\"{stock} ==> {prices} ==> avg: {avg_price}\")\n",
        "\n",
        "  elif user == \"add\":\n",
        "    stock_ticker = input(\"Enter the stock ticker \")\n",
        "    price = float(input(f\"Enter the price for {stock_ticker}:\"))\n",
        "\n",
        "    if stock_ticker in stocks:\n",
        "      stocks[stock_ticker].append(price)\n",
        "      print(f\"Added {price} to {stock_ticker}. New prices: {stocks[stock_ticker]}\")\n",
        "    else:\n",
        "      stocks[stock_ticker] = [price]\n",
        "      print(f\"New stock {stock_ticker} added with price {price}.\")\n",
        "\n",
        "  elif user == \"circle_calc\":\n",
        "    radius = float(input(\"Enter the radius of the circle:\"))\n",
        "    area , circumference , diameter = circle_calc(radius)\n",
        "    print(f\"Area {area} , circumference {circumference} , diameter {diameter}\")\n",
        "\n",
        "  elif user == \"exit\":\n",
        "    print(\"Exiting the program.\")\n",
        "    break\n",
        "\n",
        "else:\n",
        "  print(\"Invalid action. Please enter (print, add, circle_calc, or exit.)\")"
      ],
      "metadata": {
        "colab": {
          "base_uri": "https://localhost:8080/"
        },
        "id": "tFc7daNSuCTP",
        "outputId": "6fea8278-d7ac-450d-d10a-dabc5d4a3b7f"
      },
      "execution_count": null,
      "outputs": [
        {
          "output_type": "stream",
          "name": "stdout",
          "text": [
            "Enter your choice please?(print , add , circle_calc ,exit):print\n",
            "info ==> [600, 630, 620] ==> avg: 616.6666666666666\n",
            "ril ==> [1430, 1490, 1567] ==> avg: 1495.6666666666667\n",
            "mtl ==> [234, 180, 160] ==> avg: 191.33333333333334\n",
            "Enter your choice please?(print , add , circle_calc ,exit):add\n",
            "Enter the stock ticker info\n",
            "Enter the price for info:1222\n",
            "Added 1222.0 to info. New prices: [600, 630, 620, 1222.0]\n",
            "Enter your choice please?(print , add , circle_calc ,exit):circle_calc\n",
            "Enter the radius of the circle:30\n",
            "Area 2827.44 , circumference 188.496 , diameter 60.0\n",
            "Enter your choice please?(print , add , circle_calc ,exit):exit\n",
            "Exiting the program.\n"
          ]
        }
      ]
    },
    {
      "cell_type": "markdown",
      "source": [
        "\n",
        "\n",
        "---\n",
        "\n",
        "\n",
        "\n",
        "---\n",
        "\n"
      ],
      "metadata": {
        "id": "IcU9s21D5wj9"
      }
    },
    {
      "cell_type": "markdown",
      "source": [
        "#**5-Task on Functions**"
      ],
      "metadata": {
        "id": "9SLe_BrW5zSx"
      }
    },
    {
      "cell_type": "code",
      "source": [
        "#1\n",
        "def calculate_area(base , hight):\n",
        "  area = 0.5 * base * hight\n",
        "  return area\n",
        "\n",
        "base = float(input(\"Enter the base of the triangle:\"))\n",
        "hight = float(input(\"Enter the hight of the triangle:\"))\n",
        "area = calculate_area(base , hight)\n",
        "print(f\"The area of the triangle is {area}\")"
      ],
      "metadata": {
        "colab": {
          "base_uri": "https://localhost:8080/"
        },
        "id": "y19iJsUD5eQr",
        "outputId": "6ab70a5e-6c5c-419c-9f49-e72ca60855ac"
      },
      "execution_count": null,
      "outputs": [
        {
          "output_type": "stream",
          "name": "stdout",
          "text": [
            "Enter the base of the triangle:10\n",
            "Enter the hight of the triangle:20\n",
            "The area of the triangle is 100.0\n"
          ]
        }
      ]
    },
    {
      "cell_type": "code",
      "source": [
        "#2\n",
        "\n",
        "def calculate_area(D1 , D2 , shape ='triangle'):\n",
        "\n",
        "   if shape == 'triangle':\n",
        "    area = 0.5 * (D1*D2)\n",
        "   elif shape == 'rectangle':\n",
        "    area = D1 * D2\n",
        "   else:\n",
        "    print(\"Error, please enter 'triangle' or 'rectangle'\")\n",
        "    area = None\n",
        "   return area\n",
        "\n",
        "shape = input(\"Enter the shape (triangle or rectangle):\")\n",
        "D1 = float(input(\"Enter the first dimension:\"))\n",
        "D2 = float(input(\"Enter the second dimension:\"))\n",
        "area = calculate_area(D1 , D2 , shape)\n",
        "print(f\"The area of the {shape} is {area}\")"
      ],
      "metadata": {
        "colab": {
          "base_uri": "https://localhost:8080/"
        },
        "id": "lhnP18eEGcjc",
        "outputId": "1117319c-e8d2-48a9-e107-45c395c06a01"
      },
      "execution_count": null,
      "outputs": [
        {
          "output_type": "stream",
          "name": "stdout",
          "text": [
            "Enter the shape (triangle or rectangle):triangle\n",
            "Enter the first dimension:10\n",
            "Enter the second dimension:20\n",
            "The area of the triangle is 100.0\n"
          ]
        }
      ]
    },
    {
      "cell_type": "code",
      "source": [
        "#3\n",
        "def print_pattern(n):\n",
        "  for i in range(1 , n+1):\n",
        "    print(\"*\"*i)\n",
        "\n",
        "n = int(input(\"Enter the number \"))\n",
        "print(f'the pattern for {n} :')\n",
        "print_pattern(n)"
      ],
      "metadata": {
        "colab": {
          "base_uri": "https://localhost:8080/"
        },
        "id": "CbGQSro_Kops",
        "outputId": "1e400c13-8d96-40a5-a004-90f97b864a1f"
      },
      "execution_count": null,
      "outputs": [
        {
          "output_type": "stream",
          "name": "stdout",
          "text": [
            "Enter the number 5\n",
            "the pattern for 5 :\n",
            "*\n",
            "**\n",
            "***\n",
            "****\n",
            "*****\n"
          ]
        }
      ]
    }
  ]
}